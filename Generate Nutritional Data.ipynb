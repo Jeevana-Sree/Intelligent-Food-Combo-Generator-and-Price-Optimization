{
 "cells": [
  {
   "cell_type": "code",
   "execution_count": 1,
   "id": "73821085",
   "metadata": {},
   "outputs": [
    {
     "name": "stdout",
     "output_type": "stream",
     "text": [
      "Loaded restaurant data with 579 dishes.\n",
      "Found 51 unique dishes.\n",
      "Generated nutritional dataset with 51 unique dishes. Saved as 'nutritional_data.csv'.\n"
     ]
    }
   ],
   "source": [
    "import pandas as pd\n",
    "import random\n",
    "\n",
    "# Step 1: Load the restaurant dataset\n",
    "restaurant_df = pd.read_csv(\"restaurant_menu_data.csv\")\n",
    "print(\"Loaded restaurant data with\", len(restaurant_df), \"dishes.\")\n",
    "\n",
    "# Step 2: Get unique dishes with cuisine and category\n",
    "unique_dishes = restaurant_df[[\"Dish Name\", \"Cuisine\", \"Category\"]].drop_duplicates(subset=[\"Dish Name\"])\n",
    "print(\"Found\", len(unique_dishes), \"unique dishes.\")\n",
    "\n",
    "# Step 3: Define nutritional ranges (tweaked for project targets)\n",
    "nutrition_ranges = {\n",
    "    \"North Indian\": {\n",
    "        \"Main Course\": {\"Calories\": (500, 800), \"Protein\": (15, 25), \"Carbs\": (40, 70), \"Fat\": (15, 30)},  # Fat tightened to 15-30g\n",
    "        \"Side\": {\"Calories\": (200, 400), \"Protein\": (5, 10), \"Carbs\": (30, 50), \"Fat\": (10, 20)},\n",
    "        \"Appetizer\": {\"Calories\": (150, 300), \"Protein\": (5, 15), \"Carbs\": (20, 40), \"Fat\": (5, 15)}\n",
    "    },\n",
    "    \"South Indian\": {\n",
    "        \"Main Course\": {\"Calories\": (200, 400), \"Protein\": (8, 15), \"Carbs\": (40, 70), \"Fat\": (5, 15)},  # Protein bumped to 8-15g\n",
    "        \"Beverage\": {\"Calories\": (50, 150), \"Protein\": (1, 5), \"Carbs\": (5, 20), \"Fat\": (2, 10)},\n",
    "        \"Appetizer\": {\"Calories\": (100, 250), \"Protein\": (2, 8), \"Carbs\": (20, 40), \"Fat\": (5, 15)},\n",
    "        \"Side\": {\"Calories\": (100, 200), \"Protein\": (2, 6), \"Carbs\": (20, 40), \"Fat\": (2, 10)}\n",
    "    },\n",
    "    \"Biryani & Rice\": {\n",
    "        \"Main Course\": {\"Calories\": (600, 800), \"Protein\": (20, 35), \"Carbs\": (70, 100), \"Fat\": (15, 30)},  # Calories capped at 800, Fat 15-30g\n",
    "        \"Side\": {\"Calories\": (150, 300), \"Protein\": (3, 8), \"Carbs\": (30, 50), \"Fat\": (5, 15)}\n",
    "    },\n",
    "    \"Street Food\": {\n",
    "        \"Appetizer\": {\"Calories\": (100, 200), \"Protein\": (2, 5), \"Carbs\": (20, 40), \"Fat\": (5, 15)},\n",
    "        \"Main Course\": {\"Calories\": (200, 400), \"Protein\": (5, 10), \"Carbs\": (30, 60), \"Fat\": (10, 20)}\n",
    "    },\n",
    "    \"Chinese\": {\n",
    "        \"Main Course\": {\"Calories\": (300, 600), \"Protein\": (15, 20), \"Carbs\": (50, 80), \"Fat\": (10, 25)},  # Protein bumped to 15-20g\n",
    "        \"Appetizer\": {\"Calories\": (150, 300), \"Protein\": (5, 10), \"Carbs\": (20, 40), \"Fat\": (5, 15)},\n",
    "        \"Side\": {\"Calories\": (150, 300), \"Protein\": (3, 8), \"Carbs\": (30, 50), \"Fat\": (5, 15)},\n",
    "        \"Beverage\": {\"Calories\": (50, 150), \"Protein\": (1, 5), \"Carbs\": (10, 20), \"Fat\": (2, 10)}\n",
    "    },\n",
    "    \"Desserts & Beverages\": {\n",
    "        \"Dessert\": {\"Calories\": (150, 300), \"Protein\": (2, 5), \"Carbs\": (20, 40), \"Fat\": (10, 20)},\n",
    "        \"Beverage\": {\"Calories\": (100, 200), \"Protein\": (3, 8), \"Carbs\": (15, 30), \"Fat\": (2, 10)},\n",
    "        \"Main Course\": {\"Calories\": (300, 500), \"Protein\": (5, 15), \"Carbs\": (40, 70), \"Fat\": (10, 20)}\n",
    "    }\n",
    "}\n",
    "\n",
    "# Default range for unmatched cases\n",
    "default_range = {\"Calories\": (100, 300), \"Protein\": (5, 10), \"Carbs\": (20, 40), \"Fat\": (5, 15)}\n",
    "\n",
    "# Step 4: Generate nutritional data\n",
    "nutrition_data = []\n",
    "\n",
    "for _, row in unique_dishes.iterrows():\n",
    "    dish = row[\"Dish Name\"]\n",
    "    cuisine = row[\"Cuisine\"]\n",
    "    category = row[\"Category\"]\n",
    "    \n",
    "    # Get the appropriate range\n",
    "    if cuisine in nutrition_ranges and category in nutrition_ranges[cuisine]:\n",
    "        ranges = nutrition_ranges[cuisine][category]\n",
    "    else:\n",
    "        ranges = default_range\n",
    "    \n",
    "    # Assign random values within ranges\n",
    "    nutrition_data.append({\n",
    "        \"Dish Name\": dish,\n",
    "        \"Calories (kcal)\": random.randint(ranges[\"Calories\"][0], ranges[\"Calories\"][1]),\n",
    "        \"Protein (g)\": random.randint(ranges[\"Protein\"][0], ranges[\"Protein\"][1]),\n",
    "        \"Carbs (g)\": random.randint(ranges[\"Carbs\"][0], ranges[\"Carbs\"][1]),\n",
    "        \"Fat (g)\": random.randint(ranges[\"Fat\"][0], ranges[\"Fat\"][1])\n",
    "    })\n",
    "\n",
    "# Step 5: Create DataFrame and save\n",
    "nutrition_df = pd.DataFrame(nutrition_data)\n",
    "nutrition_df.to_csv(\"nutritional_data.csv\", index=False, encoding='utf-8-sig')\n",
    "print(f\"Generated nutritional dataset with {len(nutrition_df)} unique dishes. Saved as 'nutritional_data.csv'.\")"
   ]
  },
  {
   "cell_type": "code",
   "execution_count": null,
   "id": "08bff39e",
   "metadata": {},
   "outputs": [],
   "source": []
  }
 ],
 "metadata": {
  "kernelspec": {
   "display_name": "Python 3 (ipykernel)",
   "language": "python",
   "name": "python3"
  },
  "language_info": {
   "codemirror_mode": {
    "name": "ipython",
    "version": 3
   },
   "file_extension": ".py",
   "mimetype": "text/x-python",
   "name": "python",
   "nbconvert_exporter": "python",
   "pygments_lexer": "ipython3",
   "version": "3.9.13"
  }
 },
 "nbformat": 4,
 "nbformat_minor": 5
}
